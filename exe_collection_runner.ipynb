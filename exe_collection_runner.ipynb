{
 "cells": [
  {
   "cell_type": "code",
   "execution_count": null,
   "id": "79cffa44-c166-4d44-abf1-fcfcdfc56a5a",
   "metadata": {
    "tags": []
   },
   "outputs": [],
   "source": [
    "from source.execution.exe_config import Config\n",
    "from source.execution.exe_production import Production\n",
    "from pathlib import Path"
   ]
  },
  {
   "cell_type": "code",
   "execution_count": null,
   "id": "7e86ed7d-82c4-43f7-9b5d-b8c0ac6bcfa0",
   "metadata": {
    "tags": []
   },
   "outputs": [],
   "source": [
    "aois = [\n",
    "    \"bmw_regensburg\",\n",
    "    \"bmw_leipzig\",\n",
    "    \"audi_ingolstadt\",\n",
    "    \"audi_neckarsulm\",\n",
    "    \"ford_cologne\",\n",
    "    \"ford_saarlouis\",\n",
    "    \"mercedes_bremen\",\n",
    "    \"mercedes_duesseldorf\",\n",
    "    \"mercedes_ludwigsfelde\",\n",
    "    \"opel_eisenach\",\n",
    "    \"opel_ruesselsheim\",\n",
    "    \"porsche_leipzig\",\n",
    "    \"vw_emden\",\n",
    "    \"vw_wolfsburg\",\n",
    "    \"vw_zwickau\",\n",
    "]"
   ]
  },
  {
   "cell_type": "code",
   "execution_count": null,
   "id": "94b45cb4-ac81-40bb-bfba-21a4df7ab6d6",
   "metadata": {
    "tags": []
   },
   "outputs": [],
   "source": [
    "for aoi in aois:\n",
    "    conf = Config(\n",
    "        aoi_dir=Path(r\"input/AOIs\"),\n",
    "        working_dir=Path.home().joinpath(\"sat4ec\"),\n",
    "        out_dir=Path(r\"output\"),\n",
    "        orbit=\"both\",\n",
    "        aoi=aoi,\n",
    "        ext=\"geojson\",\n",
    "        start=\"2014-05-01\",\n",
    "        monthly=False,\n",
    "        regression=\"spline\",\n",
    "        linear=True,\n",
    "        aoi_split=True,\n",
    "        overwrite_raw=False,\n",
    "    )\n",
    "    prod = Production(config=conf)\n",
    "    prod.workflow()"
   ]
  },
  {
   "cell_type": "code",
   "execution_count": null,
   "id": "2b5ff0a7-4307-431a-be36-fd2cc634ea79",
   "metadata": {},
   "outputs": [],
   "source": []
  }
 ],
 "metadata": {
  "kernelspec": {
   "display_name": "sat4ec_env",
   "language": "python",
   "name": "conda-env-sat4ec_env-py"
  },
  "language_info": {
   "codemirror_mode": {
    "name": "ipython",
    "version": 3
   },
   "file_extension": ".py",
   "mimetype": "text/x-python",
   "name": "python",
   "nbconvert_exporter": "python",
   "pygments_lexer": "ipython3",
   "version": "3.11.0"
  }
 },
 "nbformat": 4,
 "nbformat_minor": 5
}
