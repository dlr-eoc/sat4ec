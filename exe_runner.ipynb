{
 "cells": [
  {
   "cell_type": "code",
   "execution_count": null,
   "id": "40f9e65e-f284-4110-a80f-c54b10f66e5e",
   "metadata": {
    "tags": []
   },
   "outputs": [],
   "source": [
    "from source.execution.exe_config import Config\n",
    "from source.execution.exe_production import Production\n",
    "from pathlib import Path"
   ]
  },
  {
   "cell_type": "code",
   "execution_count": null,
   "id": "885a39c7-cc11-4822-be52-f0148670fc01",
   "metadata": {
    "tags": []
   },
   "outputs": [],
   "source": [
    "conf = Config(\n",
    "    aoi_dir=Path(r\"input/AOIs\"),\n",
    "    working_dir=Path.home().joinpath(\"sat4ec\"),\n",
    "    out_dir=Path(r\"output\"),\n",
    "    orbit=\"both\",  # ascending or descending orbit or both\n",
    "    aoi=\"bmw_regensburg\",\n",
    "    ext=\"geojson\",\n",
    "    start=\"2014-05-01\",\n",
    "    monthly=True,\n",
    "    regression=\"spline\",\n",
    "    linear=True,\n",
    "    # linear_fill=False,\n",
    "    aoi_split=False,\n",
    "    overwrite_raw=False,\n",
    ")\n",
    "prod = Production(config=conf)\n",
    "prod.workflow()"
   ]
  },
  {
   "cell_type": "code",
   "execution_count": null,
   "id": "bb4d584e-7cca-41d1-9da1-dc4be88f5b18",
   "metadata": {},
   "outputs": [],
   "source": []
  }
 ],
 "metadata": {
  "kernelspec": {
   "display_name": "sat4ec_env",
   "language": "python",
   "name": "conda-env-sat4ec_env-py"
  },
  "language_info": {
   "codemirror_mode": {
    "name": "ipython",
    "version": 3
   },
   "file_extension": ".py",
   "mimetype": "text/x-python",
   "name": "python",
   "nbconvert_exporter": "python",
   "pygments_lexer": "ipython3",
   "version": "3.11.0"
  }
 },
 "nbformat": 4,
 "nbformat_minor": 5
}
