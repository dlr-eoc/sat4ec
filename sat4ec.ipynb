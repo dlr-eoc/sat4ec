{
 "cells": [
  {
   "cell_type": "markdown",
   "id": "866f08db",
   "metadata": {},
   "source": [
    "# **Sat4Ec**: Satellite data for economic flash estimation"
   ]
  },
  {
   "cell_type": "markdown",
   "id": "c3929ddc",
   "metadata": {},
   "source": [
    "`sat4ec` is an algorithm for monitoring the production levels of automotive production plants in Germany using Sentinel-1 IW GRD data. Since cars parked in parking lots of automotive plants interact with the Sentinel-1 SAR wave, a strong or weak signal can be used to infer their presence or absence, respectively. The algorithm aggregates a single mean SAR backscatter value for each AOI and calculates a time series to identify times of high or low parking lot occupancy.\n",
    "\n",
    "<img src=\"docs/readme_images/aoi_example.png\" width=\"300\">\n",
    "\n",
    "Individual or all of the following automotive plants can be selected:  <br>\n",
    "<img src=\"docs/readme_images/map_facilities.png\" width=\"300\">\n",
    "- *BMW plants* in Regensburg and Leipzig \n",
    "- *Audi plants* in Ingolstadt and Neckarsulm\n",
    "- *Ford plants* in Cologne and Saarlouis\n",
    "- *Mercedes plants* in Bremen, Düsseldorf and Ludwigsfelde\n",
    "- *Opel plants* in Eisenach and Rüsselsheim\n",
    "- *Porsche plant* in Leipzig\n",
    "- *VW plants* in Emden, Wolfsburg and Zwickau \n",
    "\n",
    "For each plant, production parking lots can be analyzed individually or collectively on the basis of daily or monthly data. "
   ]
  },
  {
   "cell_type": "markdown",
   "id": "b816dfb4",
   "metadata": {},
   "source": [
    "**Example Output for BMW Regensburg**\n",
    "\n",
    "<img src=\"docs/readme_images/s1_pixels.png\" width=\"250\">\n",
    "<img src=\"docs/readme_images/s1_pixels_mean.png\" width=\"250\">\n",
    "<img src=\"docs/readme_images/bmw.png\" width=\"455\">"
   ]
  },
  {
   "cell_type": "markdown",
   "id": "bb391870",
   "metadata": {},
   "source": [
    "**Prerequisites:**\n",
    "This notebook requires an active [Sentinel Hub](https://www.sentinel-hub.com/) subscription."
   ]
  },
  {
   "cell_type": "markdown",
   "id": "f0f74775",
   "metadata": {},
   "source": [
    "#### Running the algorithm"
   ]
  },
  {
   "cell_type": "code",
   "execution_count": 1,
   "id": "b85bce52",
   "metadata": {},
   "outputs": [],
   "source": [
    "from sat4ec.execution.exe_production import Production\n",
    "from pathlib import Path\n",
    "import os\n",
    "from IPython.display import display, Image"
   ]
  },
  {
   "cell_type": "code",
   "execution_count": 2,
   "id": "3e914747",
   "metadata": {},
   "outputs": [],
   "source": [
    "# Capture credentials from the user\n",
    "sh_client_id = input(\"Enter your Sentinel Hub Client ID: \")\n",
    "sh_client_secret = input(\"Enter your Sentinel Hub Secret Client ID: \")\n",
    "\n",
    "# Validate credentials\n",
    "if not sh_client_id or not sh_client_secret:\n",
    "    raise ValueError(\"No valid Sentinel Hub credentials available. Please provide valid credentials.\")\n",
    "\n",
    "# Save the credentials as environment variables\n",
    "os.environ[\"SH_CLIENT_ID\"] = sh_client_id\n",
    "os.environ[\"SH_CLIENT_SECRET\"] = sh_client_secret"
   ]
  },
  {
   "cell_type": "code",
   "execution_count": 3,
   "id": "655652ec",
   "metadata": {},
   "outputs": [],
   "source": [
    "# choose one or more automotive facilties to analyze by commenting out all others\n",
    "\n",
    "aois = [\n",
    "    \"bmw_regensburg\",\n",
    "    \"bmw_leipzig\",\n",
    "    # \"audi_ingolstadt\",\n",
    "    # \"audi_neckarsulm\",\n",
    "    # \"ford_cologne\",\n",
    "    # \"ford_saarlouis\",\n",
    "    # \"mercedes_bremen\",\n",
    "    # \"mercedes_duesseldorf\",\n",
    "    # \"mercedes_ludwigsfelde\",\n",
    "    # \"opel_eisenach\",\n",
    "    # \"opel_ruesselsheim\",\n",
    "    # \"porsche_leipzig\",\n",
    "    # \"vw_emden\",\n",
    "    # \"vw_wolfsburg\",\n",
    "    # \"vw_zwickau\",\n",
    "]"
   ]
  },
  {
   "cell_type": "code",
   "execution_count": null,
   "id": "885a39c7-cc11-4822-be52-f0148670fc01",
   "metadata": {
    "tags": []
   },
   "outputs": [],
   "source": [
    "from sat4ec.execution.exe_config import Config\n",
    "\n",
    "for aoi in aois:\n",
    "    print(f\"Preparing data for automotive facility {aoi}.\")\n",
    "\n",
    "    conf = Config(\n",
    "        aoi_dir=Path(r\"docs\\aois\"),\n",
    "        working_dir=Path(r\"sat4ec\"),\n",
    "        out_dir=Path(r\"output\"),\n",
    "        orbit=\"des\",  # choose between ascending or descending orbit or both\n",
    "        aoi=aoi,\n",
    "        ext=\"geojson\",\n",
    "        start=None,  # specify a starting date for the time series (YYYY-MM-DD) or comment this line or enter None if using default start date\n",
    "        end=None,  # specify an end date for the time series (YYYY-MM-DD) or comment this line or enter None if using automatic end date\n",
    "        monthly=True, # choose between monthly (True) and daily (False) data\n",
    "        regression=\"spline\", # choose between available interpolation methods for daily data: spline (default), rolling mean, polynomial\n",
    "        linear=True,\n",
    "        linear_fill=False,\n",
    "        aoi_split=False, # choose between data for individual parking lots (True) or entire facilities (False)\n",
    "        overwrite_raw=False,\n",
    "        online=True,\n",
    "        pol=\"VH\",\n",
    "    )\n",
    "    \n",
    "    prod = Production(config=conf)\n",
    "    prod.workflow()"
   ]
  },
  {
   "cell_type": "markdown",
   "id": "fbe9357a",
   "metadata": {},
   "source": [
    "#### Displaying the plots"
   ]
  },
  {
   "cell_type": "code",
   "execution_count": null,
   "id": "64ac1a06",
   "metadata": {},
   "outputs": [],
   "source": [
    "def find_png_files(aoi):\n",
    "    plot_location = os.path.join(\"output\", aoi, \"plot\", \"png\")\n",
    "    png_files = []\n",
    "    if os.path.isdir(plot_location):\n",
    "        for file in os.listdir(plot_location):\n",
    "            if file.endswith(\".png\"):\n",
    "                png_files.append(os.path.join(plot_location, file))\n",
    "    return png_files\n",
    "\n",
    "for aoi in aois:\n",
    "    print(\"Plots for automotive facility\", aoi)\n",
    "    png_files = find_png_files(aoi)\n",
    "    for png_file in png_files:\n",
    "        display(Image(filename=png_file, width=600))"
   ]
  }
 ],
 "metadata": {
  "kernelspec": {
   "display_name": "sat4ec",
   "language": "python",
   "name": "python3"
  },
  "language_info": {
   "codemirror_mode": {
    "name": "ipython",
    "version": 3
   },
   "file_extension": ".py",
   "mimetype": "text/x-python",
   "name": "python",
   "nbconvert_exporter": "python",
   "pygments_lexer": "ipython3",
   "version": "3.12.2"
  }
 },
 "nbformat": 4,
 "nbformat_minor": 5
}
